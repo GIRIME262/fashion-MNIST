{
 "cells": [
  {
   "cell_type": "code",
   "execution_count": 64,
   "metadata": {},
   "outputs": [],
   "source": [
    "from keras.layers import Convolution2D, Dense\n",
    "from keras.models import Sequential\n",
    "from keras.initializers import RandomNormal\n",
    "import numpy as np"
   ]
  },
  {
   "cell_type": "code",
   "execution_count": 36,
   "metadata": {},
   "outputs": [],
   "source": [
    "init_bias = RandomNormal(mean=0.0, stddev=0.05, seed=None)"
   ]
  },
  {
   "cell_type": "code",
   "execution_count": 65,
   "metadata": {},
   "outputs": [
    {
     "name": "stdout",
     "output_type": "stream",
     "text": [
      "_________________________________________________________________\n",
      "Layer (type)                 Output Shape              Param #   \n",
      "=================================================================\n",
      "Conv1 (Conv2D)               (None, 2, 2, 2)           26        \n",
      "=================================================================\n",
      "Total params: 26\n",
      "Trainable params: 26\n",
      "Non-trainable params: 0\n",
      "_________________________________________________________________\n"
     ]
    }
   ],
   "source": [
    "model_CNN = Sequential()\n",
    "model_CNN.add(Convolution2D(filters=2, kernel_size=2, strides=1, input_shape=(3,3,3), bias_initializer=init_bias,name=\"Conv1\"))\n",
    "model_CNN.summary()"
   ]
  },
  {
   "cell_type": "code",
   "execution_count": 40,
   "metadata": {},
   "outputs": [
    {
     "data": {
      "text/plain": [
       "(1, 3, 3, 3)"
      ]
     },
     "execution_count": 40,
     "metadata": {},
     "output_type": "execute_result"
    }
   ],
   "source": [
    "test_input = np.random.normal(0, 1, (1,3,3,3))\n",
    "test_input.shape"
   ]
  },
  {
   "cell_type": "code",
   "execution_count": 41,
   "metadata": {},
   "outputs": [
    {
     "data": {
      "text/plain": [
       "(1, 2, 2, 2)"
      ]
     },
     "execution_count": 41,
     "metadata": {},
     "output_type": "execute_result"
    }
   ],
   "source": [
    "model_CNN.predict(test_input).shape"
   ]
  },
  {
   "cell_type": "code",
   "execution_count": 50,
   "metadata": {},
   "outputs": [],
   "source": [
    "Conv_layer = model_CNN.get_layer('Conv1')\n",
    "Conv_layer_weights = Conv_layer.get_weights()"
   ]
  },
  {
   "cell_type": "code",
   "execution_count": 51,
   "metadata": {},
   "outputs": [],
   "source": [
    "biases = Conv_layer_weights[1]\n",
    "ws = Conv_layer_weights[0]"
   ]
  },
  {
   "cell_type": "code",
   "execution_count": 67,
   "metadata": {},
   "outputs": [],
   "source": [
    "def multiply_dims(sh):\n",
    "    outp = 1\n",
    "    for dimen in sh:\n",
    "        if dimen is not None:\n",
    "            outp *= dimen\n",
    "    return outp"
   ]
  },
  {
   "cell_type": "code",
   "execution_count": 70,
   "metadata": {},
   "outputs": [],
   "source": [
    "dense_outputs = multiply_dims(Conv_layer.get_output_shape_at(0))\n",
    "dense_input = multiply_dims(Conv_layer.get_input_shape_at(0))"
   ]
  },
  {
   "cell_type": "code",
   "execution_count": 63,
   "metadata": {},
   "outputs": [
    {
     "name": "stdout",
     "output_type": "stream",
     "text": [
      "2\n",
      "2\n",
      "2\n",
      "8\n"
     ]
    }
   ],
   "source": [
    "dense_outputs = 1\n",
    "for dimen in Conv_layer.get_output_shape_at(0):\n",
    "    if dimen is not None:\n",
    "        print(dimen)\n",
    "        dense_outputs *= dimen\n",
    "print(dense_outputs)"
   ]
  },
  {
   "cell_type": "code",
   "execution_count": 66,
   "metadata": {},
   "outputs": [
    {
     "data": {
      "text/plain": [
       "(None, 3, 3, 3)"
      ]
     },
     "execution_count": 66,
     "metadata": {},
     "output_type": "execute_result"
    }
   ],
   "source": [
    "Conv_layer.get_input_shape_at(0)"
   ]
  },
  {
   "cell_type": "code",
   "execution_count": null,
   "metadata": {},
   "outputs": [],
   "source": [
    "model_dense = Sequential()\n",
    "model_dense.add(Dense(dense_outputs, ))\n",
    "model_dense.summary()"
   ]
  },
  {
   "cell_type": "code",
   "execution_count": 52,
   "metadata": {},
   "outputs": [
    {
     "data": {
      "text/plain": [
       "array([[[[ 0.50600874,  0.46349835],\n",
       "         [ 0.12644321,  0.54636097],\n",
       "         [ 0.48036456, -0.36858511]],\n",
       "\n",
       "        [[-0.38005942, -0.39764088],\n",
       "         [-0.10010934, -0.33242157],\n",
       "         [ 0.15925795, -0.10265568]]],\n",
       "\n",
       "\n",
       "       [[[-0.026645  , -0.28077078],\n",
       "         [-0.02809125,  0.33408183],\n",
       "         [ 0.24088329,  0.05844444]],\n",
       "\n",
       "        [[-0.1379171 ,  0.12168121],\n",
       "         [-0.5192039 , -0.16861752],\n",
       "         [-0.20585772,  0.07284951]]]], dtype=float32)"
      ]
     },
     "execution_count": 52,
     "metadata": {},
     "output_type": "execute_result"
    }
   ],
   "source": [
    "ws"
   ]
  }
 ],
 "metadata": {
  "kernelspec": {
   "display_name": "Python 3",
   "language": "python",
   "name": "python3"
  },
  "language_info": {
   "codemirror_mode": {
    "name": "ipython",
    "version": 3
   },
   "file_extension": ".py",
   "mimetype": "text/x-python",
   "name": "python",
   "nbconvert_exporter": "python",
   "pygments_lexer": "ipython3",
   "version": "3.6.2"
  }
 },
 "nbformat": 4,
 "nbformat_minor": 2
}
